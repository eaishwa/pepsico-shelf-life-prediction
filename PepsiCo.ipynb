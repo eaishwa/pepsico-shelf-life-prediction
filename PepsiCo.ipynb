{
 "cells": [
  {
   "cell_type": "code",
   "execution_count": 3,
   "metadata": {},
   "outputs": [],
   "source": [
    "import pandas as pd\n",
    "import seaborn as sns\n",
    "import matplotlib.pyplot as plt"
   ]
  },
  {
   "cell_type": "code",
   "execution_count": 4,
   "metadata": {},
   "outputs": [],
   "source": [
    "data = pd.read_csv('data.csv')"
   ]
  },
  {
   "cell_type": "code",
   "execution_count": 5,
   "metadata": {},
   "outputs": [
    {
     "name": "stdout",
     "output_type": "stream",
     "text": [
      "<class 'pandas.core.frame.DataFrame'>\n",
      "RangeIndex: 749 entries, 0 to 748\n",
      "Data columns (total 16 columns):\n",
      "Study Number                        749 non-null int64\n",
      "Sample ID                           749 non-null object\n",
      "Product Type                        749 non-null object\n",
      "Base Ingredient                     640 non-null object\n",
      "Process Type                        749 non-null object\n",
      "Sample Age (Weeks)                  749 non-null float64\n",
      "Difference From Fresh               749 non-null float64\n",
      "Storage Conditions                  455 non-null object\n",
      "Packaging Stabilizer Added          467 non-null object\n",
      "Transparent Window in Package       102 non-null object\n",
      "Processing Agent Stability Index    749 non-null float64\n",
      "Preservative Added                  269 non-null object\n",
      "Moisture (%)                        513 non-null float64\n",
      "Residual Oxygen (%)                 420 non-null float64\n",
      "Hexanal (ppm)                       289 non-null float64\n",
      "Prediction                          0 non-null float64\n",
      "dtypes: float64(7), int64(1), object(8)\n",
      "memory usage: 93.8+ KB\n"
     ]
    }
   ],
   "source": [
    "data.info()"
   ]
  },
  {
   "cell_type": "code",
   "execution_count": 7,
   "metadata": {
    "collapsed": true
   },
   "outputs": [
    {
     "data": {
      "text/plain": [
       "<matplotlib.axes._subplots.AxesSubplot at 0x182d1e38348>"
      ]
     },
     "execution_count": 7,
     "metadata": {},
     "output_type": "execute_result"
    },
    {
     "data": {
      "image/png": "[encoded data removed]",
      "text/plain": [
       "<Figure size 432x288 with 1 Axes>"
      ]
     },
     "metadata": {
      "needs_background": "light"
     },
     "output_type": "display_data"
    }
   ],
   "source": [
    "sns.heatmap(data.isnull(), cbar=False)"
   ]
  },
  {
   "cell_type": "code",
   "execution_count": 6,
   "metadata": {},
   "outputs": [],
   "source": [
    "remove = ['Transparent Window in Package','Prediction','Difference From Fresh']\n",
    "data = data.drop(remove, axis=1)"
   ]
  },
  {
   "cell_type": "code",
   "execution_count": 7,
   "metadata": {},
   "outputs": [],
   "source": [
    "missing_values = dict(data.isna().sum().sort_values(ascending=False)/data.shape[0])\n",
    "missing = data.isna().sum().sort_values(ascending=False)/data.shape[0]"
   ]
  },
  {
   "cell_type": "code",
   "execution_count": 1341,
   "metadata": {},
   "outputs": [
    {
     "data": {
      "text/plain": [
       "Preservative Added                  0.640854\n",
       "Hexanal (ppm)                       0.614152\n",
       "Residual Oxygen (%)                 0.439252\n",
       "Storage Conditions                  0.392523\n",
       "Packaging Stabilizer Added          0.376502\n",
       "Moisture (%)                        0.315087\n",
       "Base Ingredient                     0.145527\n",
       "Processing Agent Stability Index    0.000000\n",
       "Sample Age (Weeks)                  0.000000\n",
       "Process Type                        0.000000\n",
       "Product Type                        0.000000\n",
       "Sample ID                           0.000000\n",
       "Study Number                        0.000000\n",
       "dtype: float64"
      ]
     },
     "execution_count": 1341,
     "metadata": {},
     "output_type": "execute_result"
    }
   ],
   "source": [
    "missing"
   ]
  },
  {
   "cell_type": "code",
   "execution_count": 8,
   "metadata": {},
   "outputs": [
    {
     "data": {
      "text/plain": [
       "0.2249152716442436"
      ]
     },
     "execution_count": 8,
     "metadata": {},
     "output_type": "execute_result"
    }
   ],
   "source": [
    "data.isna().sum().mean()/len(data.index)"
   ]
  },
  {
   "cell_type": "code",
   "execution_count": 9,
   "metadata": {},
   "outputs": [],
   "source": [
    "missing = pd.DataFrame(missing).reset_index()"
   ]
  },
  {
   "cell_type": "code",
   "execution_count": 10,
   "metadata": {},
   "outputs": [],
   "source": [
    "no_nan = list(missing[missing[0]==0]['index'])"
   ]
  },
  {
   "cell_type": "markdown",
   "metadata": {},
   "source": [
    "# To fill NAs in Preservative added"
   ]
  },
  {
   "cell_type": "code",
   "execution_count": 11,
   "metadata": {},
   "outputs": [
    {
     "name": "stderr",
     "output_type": "stream",
     "text": [
      "C:\\Users\\aishw\\Anaconda3\\envs\\fake_news\\lib\\site-packages\\pandas\\core\\generic.py:6786: SettingWithCopyWarning: \n",
      "A value is trying to be set on a copy of a slice from a DataFrame\n",
      "\n",
      "See the caveats in the documentation: http://pandas.pydata.org/pandas-docs/stable/user_guide/indexing.html#returning-a-view-versus-a-copy\n",
      "  self._update_inplace(new_data)\n"
     ]
    }
   ],
   "source": [
    "input_data = data[no_nan + ['Preservative Added']]\n",
    "input_data['Preservative Added'].replace(to_replace=['N', 'Y'], value=[0, 1],inplace=True)"
   ]
  },
  {
   "cell_type": "code",
   "execution_count": 12,
   "metadata": {},
   "outputs": [],
   "source": [
    "train = input_data[input_data['Preservative Added'].notnull()]\n",
    "test = input_data[input_data['Preservative Added'].isnull()]"
   ]
  },
  {
   "cell_type": "code",
   "execution_count": 13,
   "metadata": {},
   "outputs": [],
   "source": [
    "from sklearn.model_selection import train_test_split\n",
    "\n",
    "y = train['Preservative Added']\n",
    "X = train.drop(['Preservative Added'], axis=1)\n",
    "X_train, X_test, y_train, y_test = train_test_split(X, y, test_size=0.33, random_state=42)"
   ]
  },
  {
   "cell_type": "code",
   "execution_count": 14,
   "metadata": {},
   "outputs": [
    {
     "name": "stdout",
     "output_type": "stream",
     "text": [
      "53.15985130111524\n",
      "46.84014869888476\n"
     ]
    }
   ],
   "source": [
    "print(len(train[train['Preservative Added']==1])*100/len(train.index))\n",
    "print(len(train[train['Preservative Added']==0])*100/len(train.index))"
   ]
  },
  {
   "cell_type": "code",
   "execution_count": 15,
   "metadata": {},
   "outputs": [
    {
     "name": "stdout",
     "output_type": "stream",
     "text": [
      "{'logisticregression__C': 10}\n",
      "1.0\n"
     ]
    }
   ],
   "source": [
    "from sklearn.linear_model import LogisticRegression\n",
    "from sklearn.model_selection import GridSearchCV\n",
    "from sklearn.pipeline import make_pipeline\n",
    "from sklearn.compose import make_column_transformer\n",
    "from sklearn.preprocessing import StandardScaler\n",
    "from sklearn.preprocessing import OneHotEncoder\n",
    "from sklearn.model_selection import KFold\n",
    "import warnings\n",
    "\n",
    "with warnings.catch_warnings():\n",
    "    warnings.simplefilter(\"ignore\")\n",
    "    categorical = X_train.dtypes == object\n",
    "    \n",
    "    preprocess = make_column_transformer((StandardScaler(),~categorical),\n",
    "                                         (OneHotEncoder(handle_unknown='ignore'),categorical),\n",
    "                                         remainder='passthrough')\n",
    "    param_lr = {'logisticregression__C': [0.01,0.1,1,10,100] }\n",
    "    gs_lr = GridSearchCV(estimator=make_pipeline(preprocess,LogisticRegression(class_weight='balanced')),\n",
    "                         param_grid=param_lr,scoring=\"accuracy\",cv=KFold(shuffle=True))\n",
    "    gs_lr.fit(X_train,y_train)\n",
    "    print(gs_lr.best_params_)\n",
    "    print(gs_lr.best_score_)"
   ]
  },
  {
   "cell_type": "code",
   "execution_count": 16,
   "metadata": {},
   "outputs": [],
   "source": [
    "y_pred = gs_lr.best_estimator_.predict(X_test)"
   ]
  },
  {
   "cell_type": "code",
   "execution_count": 17,
   "metadata": {},
   "outputs": [],
   "source": [
    "from sklearn.metrics import accuracy_score\n",
    "def accuracy(y_true, y_pred):\n",
    "    return(accuracy_score(y_true, y_pred))\n",
    "    "
   ]
  },
  {
   "cell_type": "code",
   "execution_count": 18,
   "metadata": {},
   "outputs": [
    {
     "data": {
      "text/plain": [
       "1.0"
      ]
     },
     "execution_count": 18,
     "metadata": {},
     "output_type": "execute_result"
    }
   ],
   "source": [
    "accuracy(y_test, y_pred)"
   ]
  },
  {
   "cell_type": "code",
   "execution_count": 19,
   "metadata": {},
   "outputs": [],
   "source": [
    "test_x = test.drop(['Preservative Added'],axis=1)\n",
    "test_x['Preservative Added'] = gs_lr.best_estimator_.predict(test_x)"
   ]
  },
  {
   "cell_type": "code",
   "execution_count": 20,
   "metadata": {},
   "outputs": [],
   "source": [
    "clean_data = pd.concat([train,test_x])\n",
    "clean_data = clean_data.sort_index(ascending=True)"
   ]
  },
  {
   "cell_type": "markdown",
   "metadata": {},
   "source": [
    "# To impute hexanal"
   ]
  },
  {
   "cell_type": "code",
   "execution_count": 21,
   "metadata": {},
   "outputs": [],
   "source": [
    "hex_data = data['Hexanal (ppm)']\n",
    "input_data = pd.concat([clean_data,hex_data],axis=1)"
   ]
  },
  {
   "cell_type": "code",
   "execution_count": 22,
   "metadata": {},
   "outputs": [],
   "source": [
    "train = input_data[input_data['Hexanal (ppm)'].notnull()]\n",
    "test = input_data[input_data['Hexanal (ppm)'].isnull()]"
   ]
  },
  {
   "cell_type": "code",
   "execution_count": 23,
   "metadata": {},
   "outputs": [],
   "source": [
    "from sklearn.model_selection import train_test_split\n",
    "\n",
    "y = train['Hexanal (ppm)']\n",
    "X = train.drop(['Hexanal (ppm)'], axis=1)\n",
    "X_train, X_test, y_train, y_test = train_test_split(X, y, test_size=0.33, random_state=42)"
   ]
  },
  {
   "cell_type": "code",
   "execution_count": 24,
   "metadata": {},
   "outputs": [],
   "source": [
    "from sklearn.pipeline import make_pipeline\n",
    "from sklearn.compose import make_column_transformer\n",
    "from sklearn.preprocessing import StandardScaler\n",
    "from sklearn.preprocessing import OneHotEncoder\n",
    "from sklearn.model_selection import KFold\n",
    "import warnings\n",
    "\n",
    "with warnings.catch_warnings():\n",
    "    warnings.simplefilter(\"ignore\")\n",
    "    categorical = X_train.dtypes == object\n",
    "    \n",
    "    preprocess = make_column_transformer((StandardScaler(),~categorical),\n",
    "                                         (OneHotEncoder(handle_unknown='ignore'),categorical),\n",
    "                                         remainder='passthrough')"
   ]
  },
  {
   "cell_type": "code",
   "execution_count": 25,
   "metadata": {},
   "outputs": [],
   "source": [
    "from sklearn.linear_model import Ridge\n",
    "est = make_pipeline(preprocess,Ridge(alpha=1.8))\n",
    "est.fit(X_train,y_train)\n",
    "pred = est.predict(X_test)"
   ]
  },
  {
   "cell_type": "code",
   "execution_count": 26,
   "metadata": {},
   "outputs": [
    {
     "data": {
      "text/plain": [
       "0.8561676570964412"
      ]
     },
     "execution_count": 26,
     "metadata": {},
     "output_type": "execute_result"
    }
   ],
   "source": [
    "est.score(X_train,y_train)"
   ]
  },
  {
   "cell_type": "code",
   "execution_count": 27,
   "metadata": {},
   "outputs": [
    {
     "data": {
      "text/plain": [
       "0.4795260088947761"
      ]
     },
     "execution_count": 27,
     "metadata": {},
     "output_type": "execute_result"
    }
   ],
   "source": [
    "est.score(X_test,y_test)"
   ]
  },
  {
   "cell_type": "code",
   "execution_count": 28,
   "metadata": {},
   "outputs": [
    {
     "data": {
      "text/plain": [
       "0.09657374573942155"
      ]
     },
     "execution_count": 28,
     "metadata": {},
     "output_type": "execute_result"
    }
   ],
   "source": [
    "from sklearn.metrics import mean_squared_error\n",
    "\n",
    "mean_squared_error(y_test, pred)"
   ]
  },
  {
   "cell_type": "code",
   "execution_count": 29,
   "metadata": {},
   "outputs": [
    {
     "data": {
      "text/plain": [
       "0.018943433528564365"
      ]
     },
     "execution_count": 29,
     "metadata": {},
     "output_type": "execute_result"
    }
   ],
   "source": [
    "mean_squared_error(y_train, est.predict(X_train))"
   ]
  },
  {
   "cell_type": "code",
   "execution_count": 30,
   "metadata": {},
   "outputs": [
    {
     "data": {
      "text/plain": [
       "<matplotlib.collections.PathCollection at 0x1e6333fce48>"
      ]
     },
     "execution_count": 30,
     "metadata": {},
     "output_type": "execute_result"
    },
    {
     "data": {
      "image/png": "[encoded data removed]",
      "text/plain": [
       "<Figure size 432x288 with 1 Axes>"
      ]
     },
     "metadata": {
      "needs_background": "light"
     },
     "output_type": "display_data"
    }
   ],
   "source": [
    "plt.scatter(pred, y_test-pred)"
   ]
  },
  {
   "cell_type": "code",
   "execution_count": 31,
   "metadata": {},
   "outputs": [],
   "source": [
    "test_pred = est.predict(test.drop(['Hexanal (ppm)'],axis=1))"
   ]
  },
  {
   "cell_type": "code",
   "execution_count": 32,
   "metadata": {},
   "outputs": [
    {
     "data": {
      "text/plain": [
       "0.6364407179515812"
      ]
     },
     "execution_count": 32,
     "metadata": {},
     "output_type": "execute_result"
    }
   ],
   "source": [
    "test_pred.mean()"
   ]
  },
  {
   "cell_type": "code",
   "execution_count": 33,
   "metadata": {},
   "outputs": [
    {
     "data": {
      "text/plain": [
       "<matplotlib.axes._subplots.AxesSubplot at 0x1e633463d88>"
      ]
     },
     "execution_count": 33,
     "metadata": {},
     "output_type": "execute_result"
    },
    {
     "data": {
      "image/png": "[encoded data removed]",
      "text/plain": [
       "<Figure size 432x288 with 1 Axes>"
      ]
     },
     "metadata": {
      "needs_background": "light"
     },
     "output_type": "display_data"
    }
   ],
   "source": [
    "sns.boxplot(test_pred)"
   ]
  },
  {
   "cell_type": "code",
   "execution_count": 34,
   "metadata": {},
   "outputs": [],
   "source": [
    "test_x = test.drop(['Hexanal (ppm)'],axis=1)\n",
    "test_x['Hexanal (ppm)'] = test_pred"
   ]
  },
  {
   "cell_type": "code",
   "execution_count": 35,
   "metadata": {},
   "outputs": [],
   "source": [
    "clean_data = pd.concat([train,test_x])\n",
    "clean_data = clean_data.sort_index(ascending=True)"
   ]
  },
  {
   "cell_type": "code",
   "execution_count": 36,
   "metadata": {},
   "outputs": [
    {
     "data": {
      "text/plain": [
       "(749, 8)"
      ]
     },
     "execution_count": 36,
     "metadata": {},
     "output_type": "execute_result"
    }
   ],
   "source": [
    "clean_data.shape"
   ]
  },
  {
   "cell_type": "code",
   "execution_count": 37,
   "metadata": {},
   "outputs": [
    {
     "data": {
      "text/plain": [
       "0.63"
      ]
     },
     "execution_count": 37,
     "metadata": {},
     "output_type": "execute_result"
    }
   ],
   "source": [
    "data['Hexanal (ppm)'].median()"
   ]
  },
  {
   "cell_type": "code",
   "execution_count": 38,
   "metadata": {},
   "outputs": [
    {
     "data": {
      "text/plain": [
       "0.6181192504602347"
      ]
     },
     "execution_count": 38,
     "metadata": {},
     "output_type": "execute_result"
    }
   ],
   "source": [
    "clean_data['Hexanal (ppm)'].median()"
   ]
  },
  {
   "cell_type": "code",
   "execution_count": 39,
   "metadata": {},
   "outputs": [
    {
     "data": {
      "text/plain": [
       "<matplotlib.axes._subplots.AxesSubplot at 0x1e6334fd288>"
      ]
     },
     "execution_count": 39,
     "metadata": {},
     "output_type": "execute_result"
    },
    {
     "data": {
      "image/png": "[encoded data removed]",
      "text/plain": [
       "<Figure size 432x288 with 1 Axes>"
      ]
     },
     "metadata": {
      "needs_background": "light"
     },
     "output_type": "display_data"
    }
   ],
   "source": [
    "sns.boxplot(data['Hexanal (ppm)'])\n",
    "sns.boxplot(clean_data['Hexanal (ppm)'])"
   ]
  },
  {
   "cell_type": "markdown",
   "metadata": {},
   "source": [
    "From the above, we see that after imputing with model, we haven't disturbed the original distribution drastically. So we are good."
   ]
  },
  {
   "cell_type": "markdown",
   "metadata": {},
   "source": [
    "# To impute oxygen"
   ]
  },
  {
   "cell_type": "code",
   "execution_count": 40,
   "metadata": {},
   "outputs": [],
   "source": [
    "oxy_data = data['Residual Oxygen (%)']\n",
    "input_data = pd.concat([clean_data,oxy_data],axis=1)"
   ]
  },
  {
   "cell_type": "code",
   "execution_count": 41,
   "metadata": {},
   "outputs": [],
   "source": [
    "train = input_data[input_data['Residual Oxygen (%)'].notnull()]\n",
    "test = input_data[input_data['Residual Oxygen (%)'].isnull()]\n",
    "\n",
    "y = train['Residual Oxygen (%)']\n",
    "X = train.drop(['Residual Oxygen (%)'], axis=1)\n",
    "X_train, X_test, y_train, y_test = train_test_split(X, y, test_size=0.33, random_state=42)\n",
    "\n",
    "with warnings.catch_warnings():\n",
    "    warnings.simplefilter(\"ignore\")\n",
    "    categorical = X_train.dtypes == object\n",
    "    \n",
    "    preprocess = make_column_transformer((StandardScaler(),~categorical),\n",
    "                                         (OneHotEncoder(handle_unknown='ignore'),categorical),\n",
    "                                         remainder='passthrough')"
   ]
  },
  {
   "cell_type": "code",
   "execution_count": 42,
   "metadata": {},
   "outputs": [],
   "source": [
    "from sklearn.linear_model import Ridge\n",
    "est = make_pipeline(preprocess,Ridge(alpha=1))\n",
    "est.fit(X_train,y_train)\n",
    "pred = est.predict(X_test)"
   ]
  },
  {
   "cell_type": "code",
   "execution_count": 43,
   "metadata": {},
   "outputs": [
    {
     "data": {
      "text/plain": [
       "0.8773190352292889"
      ]
     },
     "execution_count": 43,
     "metadata": {},
     "output_type": "execute_result"
    }
   ],
   "source": [
    "est.score(X_train,y_train)"
   ]
  },
  {
   "cell_type": "code",
   "execution_count": 44,
   "metadata": {},
   "outputs": [
    {
     "data": {
      "text/plain": [
       "0.8041276877717966"
      ]
     },
     "execution_count": 44,
     "metadata": {},
     "output_type": "execute_result"
    }
   ],
   "source": [
    "est.score(X_test,y_test)"
   ]
  },
  {
   "cell_type": "code",
   "execution_count": 45,
   "metadata": {},
   "outputs": [
    {
     "data": {
      "text/plain": [
       "8.128778517674982"
      ]
     },
     "execution_count": 45,
     "metadata": {},
     "output_type": "execute_result"
    }
   ],
   "source": [
    "mean_squared_error(y_test, pred)"
   ]
  },
  {
   "cell_type": "code",
   "execution_count": 46,
   "metadata": {},
   "outputs": [
    {
     "data": {
      "text/plain": [
       "6.2260039173409485"
      ]
     },
     "execution_count": 46,
     "metadata": {},
     "output_type": "execute_result"
    }
   ],
   "source": [
    "mean_squared_error(y_train, est.predict(X_train))"
   ]
  },
  {
   "cell_type": "code",
   "execution_count": 47,
   "metadata": {},
   "outputs": [
    {
     "data": {
      "text/plain": [
       "<matplotlib.collections.PathCollection at 0x1e633546e48>"
      ]
     },
     "execution_count": 47,
     "metadata": {},
     "output_type": "execute_result"
    },
    {
     "data": {
      "image/png": "[encoded data removed]",
      "text/plain": [
       "<Figure size 432x288 with 1 Axes>"
      ]
     },
     "metadata": {
      "needs_background": "light"
     },
     "output_type": "display_data"
    }
   ],
   "source": [
    "plt.scatter(pred, y_test-pred)"
   ]
  },
  {
   "cell_type": "code",
   "execution_count": 48,
   "metadata": {},
   "outputs": [],
   "source": [
    "test_pred = est.predict(test.drop(['Residual Oxygen (%)'],axis=1))"
   ]
  },
  {
   "cell_type": "code",
   "execution_count": 49,
   "metadata": {},
   "outputs": [],
   "source": [
    "test_x = test.drop(['Residual Oxygen (%)'],axis=1)\n",
    "test_x['Residual Oxygen (%)'] = test_pred"
   ]
  },
  {
   "cell_type": "code",
   "execution_count": 50,
   "metadata": {},
   "outputs": [],
   "source": [
    "clean_data = pd.concat([train,test_x])\n",
    "clean_data = clean_data.sort_index(ascending=True)"
   ]
  },
  {
   "cell_type": "code",
   "execution_count": 51,
   "metadata": {},
   "outputs": [
    {
     "data": {
      "text/plain": [
       "(749, 9)"
      ]
     },
     "execution_count": 51,
     "metadata": {},
     "output_type": "execute_result"
    }
   ],
   "source": [
    "clean_data.shape"
   ]
  },
  {
   "cell_type": "markdown",
   "metadata": {},
   "source": [
    "# to impute storage conditions"
   ]
  },
  {
   "cell_type": "markdown",
   "metadata": {},
   "source": [
    "From the subject, we know that storage conditions would depend on base ingredient, product type and process type. Hence use a decision tree based model to fill these missing values."
   ]
  },
  {
   "cell_type": "code",
   "execution_count": 52,
   "metadata": {},
   "outputs": [
    {
     "data": {
      "text/plain": [
       "array([nan, 'Warm Climate', 'High Temperature and Humidity',\n",
       "       'Cold Climate'], dtype=object)"
      ]
     },
     "execution_count": 52,
     "metadata": {},
     "output_type": "execute_result"
    }
   ],
   "source": [
    "data['Storage Conditions'].unique()"
   ]
  },
  {
   "cell_type": "code",
   "execution_count": 53,
   "metadata": {},
   "outputs": [
    {
     "data": {
      "image/png": "[encoded data removed]",
      "text/plain": [
       "<Figure size 720x432 with 1 Axes>"
      ]
     },
     "metadata": {
      "needs_background": "light"
     },
     "output_type": "display_data"
    }
   ],
   "source": [
    "plt.figure(figsize=(10, 6))\n",
    "ax = sns.countplot(hue='Storage Conditions', x=\"Product Type\", data=data)"
   ]
  },
  {
   "cell_type": "code",
   "execution_count": 54,
   "metadata": {},
   "outputs": [
    {
     "data": {
      "image/png": "[encoded data removed]",
      "text/plain": [
       "<Figure size 720x432 with 1 Axes>"
      ]
     },
     "metadata": {
      "needs_background": "light"
     },
     "output_type": "display_data"
    }
   ],
   "source": [
    "plt.figure(figsize=(10, 6))\n",
    "ax = sns.countplot(hue='Storage Conditions', x=\"Base Ingredient\", data=data)"
   ]
  },
  {
   "cell_type": "code",
   "execution_count": 55,
   "metadata": {},
   "outputs": [
    {
     "data": {
      "text/plain": [
       "<matplotlib.axes._subplots.AxesSubplot at 0x1e633722108>"
      ]
     },
     "execution_count": 55,
     "metadata": {},
     "output_type": "execute_result"
    },
    {
     "data": {
      "image/png": "[encoded data removed]",
      "text/plain": [
       "<Figure size 432x288 with 1 Axes>"
      ]
     },
     "metadata": {
      "needs_background": "light"
     },
     "output_type": "display_data"
    }
   ],
   "source": [
    "view = data[data['Base Ingredient'] == 'C'][['Base Ingredient','Storage Conditions']]\n",
    "sns.heatmap(view.isnull(), cbar=False)"
   ]
  },
  {
   "cell_type": "code",
   "execution_count": 56,
   "metadata": {},
   "outputs": [
    {
     "data": {
      "text/plain": [
       "<matplotlib.axes._subplots.AxesSubplot at 0x1e6337aafc8>"
      ]
     },
     "execution_count": 56,
     "metadata": {},
     "output_type": "execute_result"
    },
    {
     "data": {
      "image/png": "[encoded data removed]",
      "text/plain": [
       "<Figure size 432x288 with 1 Axes>"
      ]
     },
     "metadata": {
      "needs_background": "light"
     },
     "output_type": "display_data"
    }
   ],
   "source": [
    "view = data[data['Product Type'] == 'E'][['Product Type','Storage Conditions']]\n",
    "sns.heatmap(view.isnull(), cbar=False)"
   ]
  },
  {
   "cell_type": "code",
   "execution_count": 57,
   "metadata": {},
   "outputs": [],
   "source": [
    "sc_data = data['Storage Conditions']\n",
    "input_data = pd.concat([clean_data,sc_data],axis=1)"
   ]
  },
  {
   "cell_type": "code",
   "execution_count": 58,
   "metadata": {},
   "outputs": [],
   "source": [
    "factor = pd.factorize(input_data['Storage Conditions'])"
   ]
  },
  {
   "cell_type": "code",
   "execution_count": 59,
   "metadata": {},
   "outputs": [],
   "source": [
    "input_data['Storage Conditions'] = factor[0]"
   ]
  },
  {
   "cell_type": "code",
   "execution_count": 60,
   "metadata": {},
   "outputs": [
    {
     "data": {
      "text/plain": [
       "array([-1,  0,  1,  2], dtype=int64)"
      ]
     },
     "execution_count": 60,
     "metadata": {},
     "output_type": "execute_result"
    }
   ],
   "source": [
    "input_data['Storage Conditions'].unique()"
   ]
  },
  {
   "cell_type": "code",
   "execution_count": 61,
   "metadata": {},
   "outputs": [],
   "source": [
    "train = input_data[input_data['Storage Conditions'] != -1]\n",
    "test = input_data[input_data['Storage Conditions'] == -1]\n",
    "\n",
    "y = train['Storage Conditions']\n",
    "X = train.drop(['Storage Conditions'], axis=1)\n",
    "X_train, X_test, y_train, y_test = train_test_split(X, y, test_size=0.33, random_state=42)\n",
    "\n",
    "with warnings.catch_warnings():\n",
    "    warnings.simplefilter(\"ignore\")\n",
    "    categorical = X_train.dtypes == object\n",
    "    \n",
    "    preprocess = make_column_transformer((StandardScaler(),~categorical),\n",
    "                                         (OneHotEncoder(handle_unknown='ignore'),categorical),\n",
    "                                         remainder='passthrough')"
   ]
  },
  {
   "cell_type": "code",
   "execution_count": 62,
   "metadata": {},
   "outputs": [
    {
     "name": "stderr",
     "output_type": "stream",
     "text": [
      "C:\\Users\\aishw\\Anaconda3\\envs\\fake_news\\lib\\site-packages\\sklearn\\ensemble\\forest.py:245: FutureWarning: The default value of n_estimators will change from 10 in version 0.20 to 100 in 0.22.\n",
      "  \"10 in version 0.20 to 100 in 0.22.\", FutureWarning)\n"
     ]
    }
   ],
   "source": [
    "from sklearn.ensemble import RandomForestClassifier\n",
    "est = make_pipeline(preprocess,RandomForestClassifier())\n",
    "est.fit(X_train,y_train)\n",
    "pred = est.predict(X_test)"
   ]
  },
  {
   "cell_type": "code",
   "execution_count": 64,
   "metadata": {},
   "outputs": [
    {
     "data": {
      "text/plain": [
       "1.0"
      ]
     },
     "execution_count": 64,
     "metadata": {},
     "output_type": "execute_result"
    }
   ],
   "source": [
    "est.score(X_train,y_train)"
   ]
  },
  {
   "cell_type": "code",
   "execution_count": 65,
   "metadata": {},
   "outputs": [
    {
     "data": {
      "text/plain": [
       "0.9933774834437086"
      ]
     },
     "execution_count": 65,
     "metadata": {},
     "output_type": "execute_result"
    }
   ],
   "source": [
    "est.score(X_test,y_test)"
   ]
  },
  {
   "cell_type": "code",
   "execution_count": 66,
   "metadata": {},
   "outputs": [],
   "source": [
    "test_pred = est.predict(test.drop(['Storage Conditions'],axis=1))\n",
    "test_x = test.drop(['Storage Conditions'],axis=1)\n",
    "test_x['Storage Conditions'] = test_pred"
   ]
  },
  {
   "cell_type": "code",
   "execution_count": 67,
   "metadata": {},
   "outputs": [],
   "source": [
    "clean_data = pd.concat([train,test_x])\n",
    "clean_data = clean_data.sort_index(ascending=True)"
   ]
  },
  {
   "cell_type": "code",
   "execution_count": 68,
   "metadata": {},
   "outputs": [
    {
     "data": {
      "text/plain": [
       "(749, 10)"
      ]
     },
     "execution_count": 68,
     "metadata": {},
     "output_type": "execute_result"
    }
   ],
   "source": [
    "clean_data.shape"
   ]
  },
  {
   "cell_type": "code",
   "execution_count": 69,
   "metadata": {},
   "outputs": [],
   "source": [
    "clean_data['Storage Conditions'] = clean_data['Storage Conditions'].astype(object)"
   ]
  },
  {
   "cell_type": "markdown",
   "metadata": {},
   "source": [
    "# To impute packaging stablizer"
   ]
  },
  {
   "cell_type": "code",
   "execution_count": 70,
   "metadata": {},
   "outputs": [],
   "source": [
    "ps_data = data['Packaging Stabilizer Added']\n",
    "input_data = pd.concat([clean_data,ps_data],axis=1)"
   ]
  },
  {
   "cell_type": "code",
   "execution_count": 71,
   "metadata": {},
   "outputs": [],
   "source": [
    "train = input_data[input_data['Packaging Stabilizer Added'].notnull()]\n",
    "test = input_data[input_data['Packaging Stabilizer Added'].isnull()]\n",
    "\n",
    "y = train['Packaging Stabilizer Added']\n",
    "X = train.drop(['Packaging Stabilizer Added'], axis=1)\n",
    "X_train, X_test, y_train, y_test = train_test_split(X, y, test_size=0.33, random_state=42)\n",
    "\n",
    "with warnings.catch_warnings():\n",
    "    warnings.simplefilter(\"ignore\")\n",
    "    categorical = X_train.dtypes == object\n",
    "    \n",
    "    preprocess = make_column_transformer((StandardScaler(),~categorical),\n",
    "                                         (OneHotEncoder(handle_unknown='ignore'),categorical),\n",
    "                                         remainder='passthrough')"
   ]
  },
  {
   "cell_type": "code",
   "execution_count": 72,
   "metadata": {},
   "outputs": [
    {
     "name": "stderr",
     "output_type": "stream",
     "text": [
      "C:\\Users\\aishw\\Anaconda3\\envs\\fake_news\\lib\\site-packages\\sklearn\\ensemble\\forest.py:245: FutureWarning: The default value of n_estimators will change from 10 in version 0.20 to 100 in 0.22.\n",
      "  \"10 in version 0.20 to 100 in 0.22.\", FutureWarning)\n"
     ]
    }
   ],
   "source": [
    "from sklearn.ensemble import RandomForestClassifier\n",
    "est = make_pipeline(preprocess,RandomForestClassifier())\n",
    "est.fit(X_train,y_train)\n",
    "pred = est.predict(X_test)"
   ]
  },
  {
   "cell_type": "code",
   "execution_count": 79,
   "metadata": {},
   "outputs": [
    {
     "data": {
      "text/plain": [
       "0.9967948717948718"
      ]
     },
     "execution_count": 79,
     "metadata": {},
     "output_type": "execute_result"
    }
   ],
   "source": [
    "est.score(X_train,y_train)"
   ]
  },
  {
   "cell_type": "code",
   "execution_count": 80,
   "metadata": {},
   "outputs": [
    {
     "data": {
      "text/plain": [
       "0.9870967741935484"
      ]
     },
     "execution_count": 80,
     "metadata": {},
     "output_type": "execute_result"
    }
   ],
   "source": [
    "est.score(X_test,y_test)"
   ]
  },
  {
   "cell_type": "code",
   "execution_count": 81,
   "metadata": {},
   "outputs": [],
   "source": [
    "test_pred = est.predict(test.drop(['Packaging Stabilizer Added'],axis=1))\n",
    "test_x = test.drop(['Packaging Stabilizer Added'],axis=1)\n",
    "test_x['Packaging Stabilizer Added'] = test_pred\n",
    "\n",
    "clean_data = pd.concat([train,test_x])\n",
    "clean_data = clean_data.sort_index(ascending=True)"
   ]
  },
  {
   "cell_type": "code",
   "execution_count": 82,
   "metadata": {},
   "outputs": [
    {
     "data": {
      "text/plain": [
       "(749, 11)"
      ]
     },
     "execution_count": 82,
     "metadata": {},
     "output_type": "execute_result"
    }
   ],
   "source": [
    "clean_data.shape"
   ]
  },
  {
   "cell_type": "markdown",
   "metadata": {},
   "source": [
    "# To impute moisture %"
   ]
  },
  {
   "cell_type": "code",
   "execution_count": 83,
   "metadata": {},
   "outputs": [],
   "source": [
    "m_data = data['Moisture (%)']\n",
    "input_data = pd.concat([clean_data,m_data],axis=1)"
   ]
  },
  {
   "cell_type": "code",
   "execution_count": 84,
   "metadata": {},
   "outputs": [],
   "source": [
    "train = input_data[input_data['Moisture (%)'].notnull()]\n",
    "test = input_data[input_data['Moisture (%)'].isnull()]\n",
    "\n",
    "y = train['Moisture (%)']\n",
    "X = train.drop(['Moisture (%)'], axis=1)\n",
    "X_train, X_test, y_train, y_test = train_test_split(X, y, test_size=0.33, random_state=42)\n",
    "\n",
    "with warnings.catch_warnings():\n",
    "    warnings.simplefilter(\"ignore\")\n",
    "    categorical = X_train.dtypes == object\n",
    "    \n",
    "    preprocess = make_column_transformer((StandardScaler(),~categorical),\n",
    "                                         (OneHotEncoder(handle_unknown='ignore'),categorical),\n",
    "                                         remainder='passthrough')"
   ]
  },
  {
   "cell_type": "code",
   "execution_count": 85,
   "metadata": {},
   "outputs": [],
   "source": [
    "from sklearn.linear_model import Ridge\n",
    "est = make_pipeline(preprocess,Ridge(alpha=0.01))\n",
    "est.fit(X_train,y_train)\n",
    "pred = est.predict(X_test)"
   ]
  },
  {
   "cell_type": "code",
   "execution_count": 86,
   "metadata": {},
   "outputs": [
    {
     "data": {
      "text/plain": [
       "0.8454415417944389"
      ]
     },
     "execution_count": 86,
     "metadata": {},
     "output_type": "execute_result"
    }
   ],
   "source": [
    "est.score(X_train,y_train)"
   ]
  },
  {
   "cell_type": "code",
   "execution_count": 87,
   "metadata": {},
   "outputs": [
    {
     "data": {
      "text/plain": [
       "0.9474195051305178"
      ]
     },
     "execution_count": 87,
     "metadata": {},
     "output_type": "execute_result"
    }
   ],
   "source": [
    "est.score(X_test,y_test)"
   ]
  },
  {
   "cell_type": "code",
   "execution_count": 88,
   "metadata": {},
   "outputs": [
    {
     "data": {
      "text/plain": [
       "0.24357698832004177"
      ]
     },
     "execution_count": 88,
     "metadata": {},
     "output_type": "execute_result"
    }
   ],
   "source": [
    "mean_squared_error(y_test, pred)"
   ]
  },
  {
   "cell_type": "code",
   "execution_count": 89,
   "metadata": {},
   "outputs": [
    {
     "data": {
      "text/plain": [
       "0.7248563070123428"
      ]
     },
     "execution_count": 89,
     "metadata": {},
     "output_type": "execute_result"
    }
   ],
   "source": [
    "mean_squared_error(y_train, est.predict(X_train))"
   ]
  },
  {
   "cell_type": "code",
   "execution_count": 90,
   "metadata": {},
   "outputs": [
    {
     "data": {
      "text/plain": [
       "<matplotlib.collections.PathCollection at 0x1e633878a88>"
      ]
     },
     "execution_count": 90,
     "metadata": {},
     "output_type": "execute_result"
    },
    {
     "data": {
      "image/png": "[encoded data removed]",
      "text/plain": [
       "<Figure size 432x288 with 1 Axes>"
      ]
     },
     "metadata": {
      "needs_background": "light"
     },
     "output_type": "display_data"
    }
   ],
   "source": [
    "plt.scatter(pred, y_test-pred)"
   ]
  },
  {
   "cell_type": "code",
   "execution_count": 91,
   "metadata": {},
   "outputs": [],
   "source": [
    "test_pred = est.predict(test.drop(['Moisture (%)'],axis=1))\n",
    "test_x = test.drop(['Moisture (%)'],axis=1)\n",
    "test_x['Moisture (%)'] = test_pred"
   ]
  },
  {
   "cell_type": "code",
   "execution_count": 92,
   "metadata": {},
   "outputs": [
    {
     "data": {
      "text/plain": [
       "(749, 12)"
      ]
     },
     "execution_count": 92,
     "metadata": {},
     "output_type": "execute_result"
    }
   ],
   "source": [
    "clean_data = pd.concat([train,test_x])\n",
    "clean_data = clean_data.sort_index(ascending=True)\n",
    "clean_data.shape"
   ]
  },
  {
   "cell_type": "markdown",
   "metadata": {},
   "source": [
    "# To impute base ingredient"
   ]
  },
  {
   "cell_type": "code",
   "execution_count": 93,
   "metadata": {},
   "outputs": [],
   "source": [
    "BI_data = data['Base Ingredient']\n",
    "input_data = pd.concat([clean_data,BI_data],axis=1)\n",
    "\n",
    "train = input_data[input_data['Base Ingredient'].notnull()]\n",
    "test = input_data[input_data['Base Ingredient'].isnull()]\n",
    "\n",
    "y = train['Base Ingredient']\n",
    "X = train.drop(['Base Ingredient'], axis=1)\n",
    "X_train, X_test, y_train, y_test = train_test_split(X, y, test_size=0.33, random_state=42)\n",
    "\n",
    "with warnings.catch_warnings():\n",
    "    warnings.simplefilter(\"ignore\")\n",
    "    categorical = X_train.dtypes == object\n",
    "    \n",
    "    preprocess = make_column_transformer((StandardScaler(),~categorical),\n",
    "                                         (OneHotEncoder(handle_unknown='ignore'),categorical),\n",
    "                                         remainder='passthrough')"
   ]
  },
  {
   "cell_type": "code",
   "execution_count": 94,
   "metadata": {},
   "outputs": [
    {
     "name": "stderr",
     "output_type": "stream",
     "text": [
      "C:\\Users\\aishw\\Anaconda3\\envs\\fake_news\\lib\\site-packages\\sklearn\\ensemble\\forest.py:245: FutureWarning: The default value of n_estimators will change from 10 in version 0.20 to 100 in 0.22.\n",
      "  \"10 in version 0.20 to 100 in 0.22.\", FutureWarning)\n"
     ]
    }
   ],
   "source": [
    "from sklearn.ensemble import RandomForestClassifier\n",
    "est = make_pipeline(preprocess,RandomForestClassifier())\n",
    "est.fit(X_train,y_train)\n",
    "pred = est.predict(X_test)"
   ]
  },
  {
   "cell_type": "code",
   "execution_count": 95,
   "metadata": {},
   "outputs": [
    {
     "data": {
      "text/plain": [
       "1.0"
      ]
     },
     "execution_count": 95,
     "metadata": {},
     "output_type": "execute_result"
    }
   ],
   "source": [
    "est.score(X_train,y_train)"
   ]
  },
  {
   "cell_type": "code",
   "execution_count": 96,
   "metadata": {},
   "outputs": [
    {
     "data": {
      "text/plain": [
       "0.9952830188679245"
      ]
     },
     "execution_count": 96,
     "metadata": {},
     "output_type": "execute_result"
    }
   ],
   "source": [
    "est.score(X_test,y_test)"
   ]
  },
  {
   "cell_type": "code",
   "execution_count": 97,
   "metadata": {},
   "outputs": [],
   "source": [
    "test_pred = est.predict(test.drop(['Base Ingredient'],axis=1))\n",
    "test_x = test.drop(['Base Ingredient'],axis=1)\n",
    "test_x['Base Ingredient'] = test_pred"
   ]
  },
  {
   "cell_type": "code",
   "execution_count": 98,
   "metadata": {},
   "outputs": [],
   "source": [
    "clean_data = pd.concat([train,test_x])\n",
    "clean_data = clean_data.sort_index(ascending=True)"
   ]
  },
  {
   "cell_type": "code",
   "execution_count": 99,
   "metadata": {},
   "outputs": [
    {
     "data": {
      "text/plain": [
       "(749, 13)"
      ]
     },
     "execution_count": 99,
     "metadata": {},
     "output_type": "execute_result"
    }
   ],
   "source": [
    "clean_data.shape"
   ]
  },
  {
   "cell_type": "code",
   "execution_count": 100,
   "metadata": {},
   "outputs": [
    {
     "data": {
      "text/plain": [
       "(749, 13)"
      ]
     },
     "execution_count": 100,
     "metadata": {},
     "output_type": "execute_result"
    }
   ],
   "source": [
    "data.shape"
   ]
  },
  {
   "cell_type": "code",
   "execution_count": 101,
   "metadata": {},
   "outputs": [
    {
     "name": "stdout",
     "output_type": "stream",
     "text": [
      "<class 'pandas.core.frame.DataFrame'>\n",
      "Int64Index: 749 entries, 0 to 748\n",
      "Data columns (total 13 columns):\n",
      "Processing Agent Stability Index    749 non-null float64\n",
      "Sample Age (Weeks)                  749 non-null float64\n",
      "Process Type                        749 non-null object\n",
      "Product Type                        749 non-null object\n",
      "Sample ID                           749 non-null object\n",
      "Study Number                        749 non-null int64\n",
      "Preservative Added                  749 non-null float64\n",
      "Hexanal (ppm)                       749 non-null float64\n",
      "Residual Oxygen (%)                 749 non-null float64\n",
      "Storage Conditions                  749 non-null object\n",
      "Packaging Stabilizer Added          749 non-null object\n",
      "Moisture (%)                        749 non-null float64\n",
      "Base Ingredient                     749 non-null object\n",
      "dtypes: float64(6), int64(1), object(6)\n",
      "memory usage: 81.9+ KB\n"
     ]
    }
   ],
   "source": [
    "clean_data.info()"
   ]
  },
  {
   "cell_type": "markdown",
   "metadata": {},
   "source": [
    "# Building actual model with clean data"
   ]
  },
  {
   "cell_type": "code",
   "execution_count": 102,
   "metadata": {},
   "outputs": [],
   "source": [
    "data = pd.read_csv('data.csv')\n",
    "\n",
    "y = list(data['Difference From Fresh'])\n",
    "y_c = []\n",
    "fresh = 0\n",
    "not_fresh = 0\n",
    "for val in y:\n",
    "    if val > 20:\n",
    "        # not fresh\n",
    "        y_c.append(0)\n",
    "        not_fresh = not_fresh + 1\n",
    "    if val <= 20:\n",
    "        # fresh\n",
    "        y_c.append(1)\n",
    "        fresh = fresh + 1"
   ]
  },
  {
   "cell_type": "code",
   "execution_count": 103,
   "metadata": {},
   "outputs": [
    {
     "name": "stdout",
     "output_type": "stream",
     "text": [
      "145\n",
      "604\n"
     ]
    }
   ],
   "source": [
    "print(not_fresh)\n",
    "print(fresh)"
   ]
  },
  {
   "cell_type": "code",
   "execution_count": 104,
   "metadata": {},
   "outputs": [],
   "source": [
    "X = clean_data"
   ]
  },
  {
   "cell_type": "code",
   "execution_count": 1435,
   "metadata": {},
   "outputs": [
    {
     "name": "stdout",
     "output_type": "stream",
     "text": [
      "<class 'pandas.core.frame.DataFrame'>\n",
      "Int64Index: 749 entries, 0 to 748\n",
      "Data columns (total 13 columns):\n",
      "Processing Agent Stability Index    749 non-null float64\n",
      "Sample Age (Weeks)                  749 non-null float64\n",
      "Process Type                        749 non-null object\n",
      "Product Type                        749 non-null object\n",
      "Sample ID                           749 non-null object\n",
      "Study Number                        749 non-null int64\n",
      "Preservative Added                  749 non-null float64\n",
      "Hexanal (ppm)                       749 non-null float64\n",
      "Residual Oxygen (%)                 749 non-null float64\n",
      "Storage Conditions                  749 non-null object\n",
      "Packaging Stabilizer Added          749 non-null object\n",
      "Moisture (%)                        749 non-null float64\n",
      "Base Ingredient                     749 non-null object\n",
      "dtypes: float64(6), int64(1), object(6)\n",
      "memory usage: 81.9+ KB\n"
     ]
    }
   ],
   "source": [
    "clean_data.info()"
   ]
  },
  {
   "cell_type": "markdown",
   "metadata": {},
   "source": [
    "# Baseline prediction model - simple imputation"
   ]
  },
  {
   "cell_type": "code",
   "execution_count": 1159,
   "metadata": {},
   "outputs": [],
   "source": [
    "from sklearn.impute import SimpleImputer\n",
    "\n",
    "def prep_train_data(X_train):\n",
    "    X_train_cont = X_train.select_dtypes(exclude=['object'])\n",
    "    X_train_cat = X_train.select_dtypes(include=['object'])\n",
    "\n",
    "    cont_cols = X_train_cont.columns\n",
    "    cat_cols = X_train_cat.columns\n",
    "\n",
    "    imp = SimpleImputer(strategy=\"median\").fit(X_train_cont)\n",
    "    X_train_cont = imp.transform(X_train_cont)\n",
    "    X_train_cont = pd.DataFrame(X_train_cont,columns=cont_cols)\n",
    "\n",
    "    imp1 = SimpleImputer(strategy=\"most_frequent\").fit(X_train_cat)\n",
    "    X_train_cat = imp1.transform(X_train_cat)\n",
    "    X_train_cat = pd.DataFrame(X_train_cat,columns=cat_cols)\n",
    "\n",
    "    for col in X_train_cat.columns:\n",
    "        X_train_cont[col] = X_train_cat[col]\n",
    "\n",
    "    X_train_final = X_train_cont\n",
    "    X_train_dummies = pd.get_dummies(X_train_final)\n",
    "    \n",
    "    return X_train_dummies, X_train_cat, imp, imp1\n"
   ]
  },
  {
   "cell_type": "code",
   "execution_count": null,
   "metadata": {},
   "outputs": [],
   "source": [
    "def prep_test_data(X_test, X_train_cat, imp,imp1):\n",
    "    X_test_cont = X_test.select_dtypes(exclude=['object'])\n",
    "    X_test_cat = X_test.select_dtypes(include=['object'])\n",
    "\n",
    "    cont_cols = X_test_cont.columns\n",
    "    cat_cols = X_test_cat.columns\n",
    "\n",
    "    X_test_cont = imp.transform(X_test_cont)\n",
    "    X_test_cont = pd.DataFrame(X_test_cont,columns=cont_cols)\n",
    "\n",
    "    X_test_cat = imp1.transform(X_test_cat)\n",
    "    X_test_cat = pd.DataFrame(X_test_cat,columns=cat_cols)\n",
    "\n",
    "    for col in X_test_cat.columns:\n",
    "        X_test_cont[col] = X_test_cat[col]\n",
    "\n",
    "    X_test_final = X_test_cont\n",
    "    X_test_dummies = pd.get_dummies(X_test_final)\n",
    "    Process_Type = X_train_cat['Process Type'].unique()\n",
    "    Product_Type = X_train_cat['Product Type'].unique()\n",
    "    Sample_ID = X_train_cat['Sample ID'].unique()\n",
    "    Storage_Conditions = X_train_cat['Storage Conditions'].unique()\n",
    "    Packaging_Stabilizer_Added = X_train_cat['Packaging Stabilizer Added'].unique()\n",
    "    Base_Ingredient = X_train_cat['Base Ingredient'].unique()\n",
    "    \n",
    "    X_test_final['Process Type'] = pd.Categorical(X_test_final['Process Type'], categories = Process_Type)\n",
    "    X_test_final['Product Type'] = pd.Categorical(X_test_final['Product Type'], categories = Product_Type)\n",
    "    X_test_final['Sample ID'] = pd.Categorical(X_test_final['Sample ID'], categories = Sample_ID)\n",
    "    X_test_final['Storage Conditions'] = pd.Categorical(X_test_final['Storage Conditions'], categories = Storage_Conditions)\n",
    "    X_test_final['Packaging Stabilizer Added'] = pd.Categorical(X_test_final['Packaging Stabilizer Added'], categories = Packaging_Stabilizer_Added)\n",
    "    X_test_final['Base Ingredient'] = pd.Categorical(X_test_final['Base Ingredient'], categories = Base_Ingredient)\n",
    "    \n",
    "    X_test_dummies = pd.get_dummies(X_test_final)\n",
    "    \n",
    "    return X_test_dummies"
   ]
  },
  {
   "cell_type": "code",
   "execution_count": null,
   "metadata": {},
   "outputs": [],
   "source": [
    "X_train, X_test, y_train, y_test = train_test_split(data.drop(['Difference From Fresh','Prediction'],axis=1), \n",
    "                                                    y, test_size=0.33, random_state=42)"
   ]
  },
  {
   "cell_type": "code",
   "execution_count": 1146,
   "metadata": {},
   "outputs": [],
   "source": [
    "from sklearn.linear_model import LinearRegression\n",
    "X_train_dummies,X_train_cat,imp, imp1 = prep_train_data(X_train)\n",
    "X_test_dummies = prep_test_data(X_test,X_train_cat,imp,imp1)\n",
    "est = LinearRegression().fit(X_train_dummies,y_train)"
   ]
  },
  {
   "cell_type": "code",
   "execution_count": 1134,
   "metadata": {},
   "outputs": [],
   "source": [
    "pred = est.predict(X_test_dummies)"
   ]
  },
  {
   "cell_type": "code",
   "execution_count": 1135,
   "metadata": {},
   "outputs": [
    {
     "data": {
      "text/plain": [
       "4.796783064737544e+16"
      ]
     },
     "execution_count": 1135,
     "metadata": {},
     "output_type": "execute_result"
    }
   ],
   "source": [
    "mean_squared_error(y_test, pred)"
   ]
  },
  {
   "cell_type": "code",
   "execution_count": 1136,
   "metadata": {},
   "outputs": [
    {
     "data": {
      "text/plain": [
       "<matplotlib.collections.PathCollection at 0x182da17bc48>"
      ]
     },
     "execution_count": 1136,
     "metadata": {},
     "output_type": "execute_result"
    },
    {
     "data": {
      "image/png": "[encoded data removed]",
      "text/plain": [
       "<Figure size 432x288 with 1 Axes>"
      ]
     },
     "metadata": {
      "needs_background": "light"
     },
     "output_type": "display_data"
    }
   ],
   "source": [
    "plt.scatter(pred, y_test-pred)"
   ]
  },
  {
   "cell_type": "markdown",
   "metadata": {},
   "source": [
    "# Baseline classification model - Simple Imputation"
   ]
  },
  {
   "cell_type": "code",
   "execution_count": 1164,
   "metadata": {},
   "outputs": [
    {
     "name": "stdout",
     "output_type": "stream",
     "text": [
      "{'logisticregression__C': 1}\n",
      "0.440272906828884\n"
     ]
    }
   ],
   "source": [
    "X_train, X_test, y_train, y_test = train_test_split(data.drop(['Difference From Fresh','Prediction'],axis=1), \n",
    "                                                    y_c, test_size=0.33, random_state=42)\n",
    "X_train_dummies,X_train_cat,imp, imp1 = prep_train_data(X_train)\n",
    "X_test_dummies = prep_test_data(X_test,X_train_cat,imp,imp1)\n",
    "\n",
    "with warnings.catch_warnings():\n",
    "    warnings.simplefilter(\"ignore\")\n",
    "\n",
    "    param_lr = {'logisticregression__C': [1, 5, 7, 10, 25, 50, 100] }\n",
    "    \n",
    "    gs_lr = GridSearchCV(estimator=make_pipeline(LogisticRegression()),\n",
    "                         param_grid=param_lr,scoring=\"roc_auc\",cv=KFold(shuffle=True))\n",
    "    \n",
    "    gs_lr.fit(X_train_dummies,y_train)\n",
    "    print(gs_lr.best_params_)\n",
    "    print(gs_lr.best_score_)"
   ]
  },
  {
   "cell_type": "code",
   "execution_count": 1165,
   "metadata": {},
   "outputs": [
    {
     "data": {
      "text/plain": [
       "0.8977777777777779"
      ]
     },
     "execution_count": 1165,
     "metadata": {},
     "output_type": "execute_result"
    }
   ],
   "source": [
    "from sklearn.metrics import f1_score\n",
    "f1_score(y_test, gs_lr.best_estimator_.predict(X_test_dummies))  "
   ]
  },
  {
   "cell_type": "markdown",
   "metadata": {},
   "source": [
    "# Fit linear regression as baseline model for clean data"
   ]
  },
  {
   "cell_type": "code",
   "execution_count": 1315,
   "metadata": {},
   "outputs": [],
   "source": [
    "X_train, X_test, y_train, y_test = train_test_split(X, y, test_size=0.33, random_state=42)"
   ]
  },
  {
   "cell_type": "code",
   "execution_count": 1316,
   "metadata": {},
   "outputs": [
    {
     "name": "stdout",
     "output_type": "stream",
     "text": [
      "<class 'pandas.core.frame.DataFrame'>\n",
      "Int64Index: 749 entries, 0 to 748\n",
      "Data columns (total 13 columns):\n",
      "Processing Agent Stability Index    749 non-null float64\n",
      "Sample Age (Weeks)                  749 non-null float64\n",
      "Process Type                        749 non-null object\n",
      "Product Type                        749 non-null object\n",
      "Sample ID                           749 non-null object\n",
      "Study Number                        749 non-null int64\n",
      "Preservative Added                  749 non-null float64\n",
      "Hexanal (ppm)                       749 non-null float64\n",
      "Residual Oxygen (%)                 749 non-null float64\n",
      "Storage Conditions                  749 non-null object\n",
      "Packaging Stabilizer Added          749 non-null object\n",
      "Moisture (%)                        749 non-null float64\n",
      "Base Ingredient                     749 non-null object\n",
      "dtypes: float64(6), int64(1), object(6)\n",
      "memory usage: 81.9+ KB\n"
     ]
    }
   ],
   "source": [
    "X.info()"
   ]
  },
  {
   "cell_type": "code",
   "execution_count": 1440,
   "metadata": {},
   "outputs": [],
   "source": [
    "with warnings.catch_warnings():\n",
    "    warnings.simplefilter(\"ignore\")\n",
    "    categorical = X_train.dtypes == object\n",
    "    \n",
    "    preprocess = make_column_transformer((StandardScaler(),~categorical),\n",
    "                                         (OneHotEncoder(handle_unknown='ignore'),categorical),\n",
    "                                         remainder='passthrough')"
   ]
  },
  {
   "cell_type": "code",
   "execution_count": 1318,
   "metadata": {},
   "outputs": [],
   "source": [
    "from sklearn.linear_model import LinearRegression\n",
    "est = make_pipeline(preprocess,LinearRegression())\n",
    "est.fit(X_train,y_train)\n",
    "pred = est.predict(X_test)"
   ]
  },
  {
   "cell_type": "code",
   "execution_count": 1319,
   "metadata": {},
   "outputs": [
    {
     "data": {
      "text/plain": [
       "0.6498756462126644"
      ]
     },
     "execution_count": 1319,
     "metadata": {},
     "output_type": "execute_result"
    }
   ],
   "source": [
    "est.score(X_train,y_train)"
   ]
  },
  {
   "cell_type": "code",
   "execution_count": 1320,
   "metadata": {},
   "outputs": [
    {
     "data": {
      "text/plain": [
       "-0.02741332179257938"
      ]
     },
     "execution_count": 1320,
     "metadata": {},
     "output_type": "execute_result"
    }
   ],
   "source": [
    "est.score(X_test,y_test)"
   ]
  },
  {
   "cell_type": "code",
   "execution_count": 1321,
   "metadata": {},
   "outputs": [
    {
     "data": {
      "text/plain": [
       "137.457195166616"
      ]
     },
     "execution_count": 1321,
     "metadata": {},
     "output_type": "execute_result"
    }
   ],
   "source": [
    "mean_squared_error(y_test, pred)"
   ]
  },
  {
   "cell_type": "code",
   "execution_count": 1322,
   "metadata": {},
   "outputs": [
    {
     "data": {
      "text/plain": [
       "<matplotlib.collections.PathCollection at 0x182df558748>"
      ]
     },
     "execution_count": 1322,
     "metadata": {},
     "output_type": "execute_result"
    },
    {
     "data": {
      "image/png": "[encoded data removed]",
      "text/plain": [
       "<Figure size 432x288 with 1 Axes>"
      ]
     },
     "metadata": {
      "needs_background": "light"
     },
     "output_type": "display_data"
    }
   ],
   "source": [
    "plt.scatter(pred, y_test-pred)"
   ]
  },
  {
   "cell_type": "markdown",
   "metadata": {},
   "source": [
    "As can be seen, linear regression did not perform well. However, this is a baseline to start with."
   ]
  },
  {
   "cell_type": "markdown",
   "metadata": {},
   "source": [
    "# Ridge Regression"
   ]
  },
  {
   "cell_type": "code",
   "execution_count": 1025,
   "metadata": {},
   "outputs": [
    {
     "name": "stdout",
     "output_type": "stream",
     "text": [
      "{'ridge__alpha': 3}\n",
      "0.3341808685276884\n"
     ]
    }
   ],
   "source": [
    "with warnings.catch_warnings():\n",
    "    warnings.simplefilter(\"ignore\")\n",
    "    \n",
    "    param_lr = {'ridge__alpha': [0.01,0.1,0.5,1,2,3,10] }\n",
    "    gs_lr = GridSearchCV(estimator=make_pipeline(preprocess,Ridge()),\n",
    "                         param_grid=param_lr,cv=KFold(shuffle=True))\n",
    "    \n",
    "    gs_lr.fit(X_train,y_train)\n",
    "    \n",
    "    print(gs_lr.best_params_)\n",
    "    print(gs_lr.best_score_)"
   ]
  },
  {
   "cell_type": "code",
   "execution_count": 1026,
   "metadata": {},
   "outputs": [],
   "source": [
    "est = gs_lr.best_estimator_"
   ]
  },
  {
   "cell_type": "code",
   "execution_count": 1027,
   "metadata": {},
   "outputs": [
    {
     "data": {
      "text/plain": [
       "0.3794236281610639"
      ]
     },
     "execution_count": 1027,
     "metadata": {},
     "output_type": "execute_result"
    }
   ],
   "source": [
    "est.score(X_test,y_test)"
   ]
  },
  {
   "cell_type": "code",
   "execution_count": 1028,
   "metadata": {},
   "outputs": [
    {
     "data": {
      "text/plain": [
       "83.02665115420466"
      ]
     },
     "execution_count": 1028,
     "metadata": {},
     "output_type": "execute_result"
    }
   ],
   "source": [
    "mean_squared_error(y_test, gs_lr.best_estimator_.predict(X_test))"
   ]
  },
  {
   "cell_type": "markdown",
   "metadata": {},
   "source": [
    "Ridge is way better than linear regression"
   ]
  },
  {
   "cell_type": "markdown",
   "metadata": {},
   "source": [
    "# Lasso Regression"
   ]
  },
  {
   "cell_type": "code",
   "execution_count": 1029,
   "metadata": {},
   "outputs": [
    {
     "name": "stdout",
     "output_type": "stream",
     "text": [
      "{'lasso__alpha': 0.01}\n",
      "0.3156197039336406\n"
     ]
    }
   ],
   "source": [
    "from sklearn.linear_model import Lasso\n",
    "with warnings.catch_warnings():\n",
    "    warnings.simplefilter(\"ignore\")\n",
    "    \n",
    "    param_lr = {'lasso__alpha': [0.01,0.1,0.5,1,2,3] }\n",
    "    gs_lr = GridSearchCV(estimator=make_pipeline(preprocess,Lasso()),\n",
    "                         param_grid=param_lr,cv=KFold(shuffle=True))\n",
    "    \n",
    "    gs_lr.fit(X_train,y_train)\n",
    "    \n",
    "    print(gs_lr.best_params_)\n",
    "    print(gs_lr.best_score_)"
   ]
  },
  {
   "cell_type": "code",
   "execution_count": 1030,
   "metadata": {},
   "outputs": [
    {
     "data": {
      "text/plain": [
       "88.69728917128495"
      ]
     },
     "execution_count": 1030,
     "metadata": {},
     "output_type": "execute_result"
    }
   ],
   "source": [
    "mean_squared_error(y_test, gs_lr.best_estimator_.predict(X_test))"
   ]
  },
  {
   "cell_type": "markdown",
   "metadata": {},
   "source": [
    "Lasso is just in par with ridge. Let us look at random forest."
   ]
  },
  {
   "cell_type": "markdown",
   "metadata": {},
   "source": [
    "# Random forest regressor"
   ]
  },
  {
   "cell_type": "code",
   "execution_count": 1329,
   "metadata": {},
   "outputs": [
    {
     "name": "stdout",
     "output_type": "stream",
     "text": [
      "{'randomforestregressor__n_estimators': 100}\n",
      "0.5289044126418931\n"
     ]
    }
   ],
   "source": [
    "from sklearn.ensemble import RandomForestRegressor\n",
    "with warnings.catch_warnings():\n",
    "    warnings.simplefilter(\"ignore\")\n",
    "    \n",
    "    param_lr = {'randomforestregressor__n_estimators': [10,30,50,100,150,300] }\n",
    "    gs_lr = GridSearchCV(estimator=make_pipeline(preprocess,RandomForestRegressor()),\n",
    "                         param_grid=param_lr,cv=KFold(shuffle=True))\n",
    "    \n",
    "    gs_lr.fit(X_train,y_train)\n",
    "    \n",
    "    print(gs_lr.best_params_)\n",
    "    print(gs_lr.best_score_)"
   ]
  },
  {
   "cell_type": "code",
   "execution_count": 1330,
   "metadata": {},
   "outputs": [
    {
     "data": {
      "text/plain": [
       "55.708928116935496"
      ]
     },
     "execution_count": 1330,
     "metadata": {},
     "output_type": "execute_result"
    }
   ],
   "source": [
    "mean_squared_error(y_test, gs_lr.best_estimator_.predict(X_test))"
   ]
  },
  {
   "cell_type": "code",
   "execution_count": 1331,
   "metadata": {},
   "outputs": [],
   "source": [
    "final_pred = gs_lr.best_estimator_.predict(X)\n",
    "X['final_pred'] = final_pred"
   ]
  },
  {
   "cell_type": "code",
   "execution_count": 1333,
   "metadata": {},
   "outputs": [],
   "source": [
    "X.to_csv('res_pred.csv')"
   ]
  },
  {
   "cell_type": "code",
   "execution_count": 1325,
   "metadata": {},
   "outputs": [
    {
     "data": {
      "text/plain": [
       "<matplotlib.collections.PathCollection at 0x182df615588>"
      ]
     },
     "execution_count": 1325,
     "metadata": {},
     "output_type": "execute_result"
    },
    {
     "data": {
      "image/png": "[encoded data removed]",
      "text/plain": [
       "<Figure size 432x288 with 1 Axes>"
      ]
     },
     "metadata": {
      "needs_background": "light"
     },
     "output_type": "display_data"
    }
   ],
   "source": [
    "pred = gs_lr.best_estimator_.predict(X_test)\n",
    "plt.scatter(pred, y_test-pred)"
   ]
  },
  {
   "cell_type": "code",
   "execution_count": 1326,
   "metadata": {},
   "outputs": [],
   "source": [
    "feat_imp = gs_lr.best_estimator_.named_steps['randomforestregressor'].feature_importances_"
   ]
  },
  {
   "cell_type": "code",
   "execution_count": 1327,
   "metadata": {},
   "outputs": [
    {
     "data": {
      "text/html": [
       "<div>\n",
       "<style scoped>\n",
       "    .dataframe tbody tr th:only-of-type {\n",
       "        vertical-align: middle;\n",
       "    }\n",
       "\n",
       "    .dataframe tbody tr th {\n",
       "        vertical-align: top;\n",
       "    }\n",
       "\n",
       "    .dataframe thead th {\n",
       "        text-align: right;\n",
       "    }\n",
       "</style>\n",
       "<table border=\"1\" class=\"dataframe\">\n",
       "  <thead>\n",
       "    <tr style=\"text-align: right;\">\n",
       "      <th></th>\n",
       "      <th>cat</th>\n",
       "      <th>feat_imp</th>\n",
       "    </tr>\n",
       "  </thead>\n",
       "  <tbody>\n",
       "    <tr>\n",
       "      <td>1</td>\n",
       "      <td>Sample Age (Weeks)</td>\n",
       "      <td>0.241650</td>\n",
       "    </tr>\n",
       "    <tr>\n",
       "      <td>4</td>\n",
       "      <td>Hexanal (ppm)</td>\n",
       "      <td>0.139371</td>\n",
       "    </tr>\n",
       "    <tr>\n",
       "      <td>6</td>\n",
       "      <td>Moisture (%)</td>\n",
       "      <td>0.118986</td>\n",
       "    </tr>\n",
       "    <tr>\n",
       "      <td>5</td>\n",
       "      <td>Residual Oxygen (%)</td>\n",
       "      <td>0.100893</td>\n",
       "    </tr>\n",
       "    <tr>\n",
       "      <td>2</td>\n",
       "      <td>Study Number</td>\n",
       "      <td>0.094585</td>\n",
       "    </tr>\n",
       "    <tr>\n",
       "      <td>...</td>\n",
       "      <td>...</td>\n",
       "      <td>...</td>\n",
       "    </tr>\n",
       "    <tr>\n",
       "      <td>41</td>\n",
       "      <td>1411909-1</td>\n",
       "      <td>0.000043</td>\n",
       "    </tr>\n",
       "    <tr>\n",
       "      <td>55</td>\n",
       "      <td>1512305-2</td>\n",
       "      <td>0.000037</td>\n",
       "    </tr>\n",
       "    <tr>\n",
       "      <td>75</td>\n",
       "      <td>1513103-1</td>\n",
       "      <td>0.000031</td>\n",
       "    </tr>\n",
       "    <tr>\n",
       "      <td>29</td>\n",
       "      <td>1310957-1</td>\n",
       "      <td>0.000029</td>\n",
       "    </tr>\n",
       "    <tr>\n",
       "      <td>74</td>\n",
       "      <td>1512900-1</td>\n",
       "      <td>0.000017</td>\n",
       "    </tr>\n",
       "  </tbody>\n",
       "</table>\n",
       "<p>139 rows × 2 columns</p>\n",
       "</div>"
      ],
      "text/plain": [
       "                    cat  feat_imp\n",
       "1    Sample Age (Weeks)  0.241650\n",
       "4         Hexanal (ppm)  0.139371\n",
       "6          Moisture (%)  0.118986\n",
       "5   Residual Oxygen (%)  0.100893\n",
       "2          Study Number  0.094585\n",
       "..                  ...       ...\n",
       "41            1411909-1  0.000043\n",
       "55            1512305-2  0.000037\n",
       "75            1513103-1  0.000031\n",
       "29            1310957-1  0.000029\n",
       "74            1512900-1  0.000017\n",
       "\n",
       "[139 rows x 2 columns]"
      ]
     },
     "execution_count": 1327,
     "metadata": {},
     "output_type": "execute_result"
    }
   ],
   "source": [
    "def get_feat_imp(best_est,feat_imp):\n",
    "    cat_list = best_est.named_steps['columntransformer'].named_transformers_['onehotencoder'].categories_\n",
    "    flat_list = [item for cat_list in cat_list for item in cat_list]\n",
    "    cont = X_train.select_dtypes(exclude=['object'])\n",
    "    tot_col = list(cont.columns)\n",
    "    tot_col.extend(flat_list)\n",
    "    df = pd.DataFrame({'cat':tot_col,'feat_imp':feat_imp})\n",
    "    return df.reindex(df.feat_imp.abs().sort_values(ascending = False).index)\n",
    "\n",
    "res = get_feat_imp(gs_lr.best_estimator_,feat_imp)\n",
    "res"
   ]
  },
  {
   "cell_type": "code",
   "execution_count": 1328,
   "metadata": {},
   "outputs": [
    {
     "data": {
      "text/plain": [
       "Text(0.5, 1.0, 'features Vs Importances')"
      ]
     },
     "execution_count": 1328,
     "metadata": {},
     "output_type": "execute_result"
    },
    {
     "data": {
      "image/png": "[encoded data removed]",
      "text/plain": [
       "<Figure size 432x288 with 1 Axes>"
      ]
     },
     "metadata": {
      "needs_background": "light"
     },
     "output_type": "display_data"
    }
   ],
   "source": [
    "plt.xticks(rotation=90)\n",
    "plt.bar(res.iloc[:10,0],res.iloc[:10,1])\n",
    "plt.xlabel(\"Features\")\n",
    "plt.ylabel(\"Coefficients\")\n",
    "plt.title(\"features Vs Importances\")"
   ]
  },
  {
   "cell_type": "markdown",
   "metadata": {},
   "source": [
    "# XGBoost regressor"
   ]
  },
  {
   "cell_type": "code",
   "execution_count": 1037,
   "metadata": {
    "collapsed": true
   },
   "outputs": [
    {
     "name": "stderr",
     "output_type": "stream",
     "text": [
      "C:\\Users\\aishw\\Anaconda3\\envs\\fake_news\\lib\\site-packages\\sklearn\\model_selection\\_split.py:1978: FutureWarning: The default value of cv will change from 3 to 5 in version 0.22. Specify it explicitly to silence this warning.\n",
      "  warnings.warn(CV_WARNING, FutureWarning)\n",
      "[Parallel(n_jobs=4)]: Using backend LokyBackend with 4 concurrent workers.\n"
     ]
    },
    {
     "name": "stdout",
     "output_type": "stream",
     "text": [
      "Fitting 3 folds for each of 5 candidates, totalling 15 fits\n"
     ]
    },
    {
     "name": "stderr",
     "output_type": "stream",
     "text": [
      "[Parallel(n_jobs=4)]: Done  15 out of  15 | elapsed:    9.7s finished\n"
     ]
    },
    {
     "data": {
      "text/plain": [
       "RandomizedSearchCV(cv='warn', error_score='raise-deprecating',\n",
       "                   estimator=GradientBoostingRegressor(alpha=0.9,\n",
       "                                                       criterion='friedman_mse',\n",
       "                                                       init=None,\n",
       "                                                       learning_rate=0.1,\n",
       "                                                       loss='ls', max_depth=3,\n",
       "                                                       max_features=None,\n",
       "                                                       max_leaf_nodes=None,\n",
       "                                                       min_impurity_decrease=0.0,\n",
       "                                                       min_impurity_split=None,\n",
       "                                                       min_samples_leaf=1,\n",
       "                                                       min_samples_split=2,\n",
       "                                                       min_weight_fraction_leaf=0.0,\n",
       "                                                       n_estimators=100,\n",
       "                                                       n_iter_no_change=None,\n",
       "                                                       presort='auto',\n",
       "                                                       random_state=None,\n",
       "                                                       subsample=1.0,\n",
       "                                                       tol=0.0001,\n",
       "                                                       validation_fraction=0.1,\n",
       "                                                       verbose=0,\n",
       "                                                       warm_start=False),\n",
       "                   iid='warn', n_iter=5, n_jobs=4,\n",
       "                   param_distributions={'max_depth': [4, 5, 6, 7],\n",
       "                                        'n_estimators': [100, 200, 300]},\n",
       "                   pre_dispatch='2*n_jobs', random_state=42, refit=True,\n",
       "                   return_train_score=False, scoring=None, verbose=3)"
      ]
     },
     "execution_count": 1037,
     "metadata": {},
     "output_type": "execute_result"
    }
   ],
   "source": [
    "from sklearn import ensemble\n",
    "from sklearn.model_selection import RandomizedSearchCV\n",
    "\n",
    "params = {'n_estimators': [100,200,300], 'max_depth': [4,5,6,7]}\n",
    "clf = ensemble.GradientBoostingRegressor()\n",
    "\n",
    "random_search = RandomizedSearchCV(clf, param_distributions=params,n_iter=5,\n",
    "                                   n_jobs=4,verbose=3, random_state=42 )\n",
    "\n",
    "random_search.fit(preprocess.fit_transform(X_train), y_train)"
   ]
  },
  {
   "cell_type": "code",
   "execution_count": 1039,
   "metadata": {},
   "outputs": [
    {
     "data": {
      "text/plain": [
       "59.88792388094287"
      ]
     },
     "execution_count": 1039,
     "metadata": {},
     "output_type": "execute_result"
    }
   ],
   "source": [
    "preprocess.fit(X_train)\n",
    "mean_squared_error(y_test, random_search.best_estimator_.predict(preprocess.transform(X_test)))"
   ]
  },
  {
   "cell_type": "code",
   "execution_count": 1045,
   "metadata": {},
   "outputs": [
    {
     "data": {
      "text/plain": [
       "<matplotlib.collections.PathCollection at 0x182dd571288>"
      ]
     },
     "execution_count": 1045,
     "metadata": {},
     "output_type": "execute_result"
    },
    {
     "data": {
      "image/png": "[encoded data removed]",
      "text/plain": [
       "<Figure size 432x288 with 1 Axes>"
      ]
     },
     "metadata": {
      "needs_background": "light"
     },
     "output_type": "display_data"
    }
   ],
   "source": [
    "pred = random_search.best_estimator_.predict(preprocess.transform(X_test))\n",
    "plt.scatter(pred, y_test-pred)"
   ]
  },
  {
   "cell_type": "markdown",
   "metadata": {},
   "source": [
    "# SVR"
   ]
  },
  {
   "cell_type": "code",
   "execution_count": 1042,
   "metadata": {},
   "outputs": [
    {
     "name": "stdout",
     "output_type": "stream",
     "text": [
      "{'svr__C': 100}\n",
      "0.3360720771785603\n"
     ]
    }
   ],
   "source": [
    "from sklearn.svm import SVR\n",
    "with warnings.catch_warnings():\n",
    "    warnings.simplefilter(\"ignore\")\n",
    "    \n",
    "    param_lr = {'svr__C': [0.01,0.1,1,10,100,1000] }\n",
    "    gs_lr = GridSearchCV(estimator=make_pipeline(preprocess,SVR()),\n",
    "                         param_grid=param_lr,cv=KFold(shuffle=True))\n",
    "    \n",
    "    gs_lr.fit(X_train,y_train)\n",
    "    \n",
    "    print(gs_lr.best_params_)\n",
    "    print(gs_lr.best_score_)"
   ]
  },
  {
   "cell_type": "code",
   "execution_count": 1043,
   "metadata": {},
   "outputs": [
    {
     "data": {
      "text/plain": [
       "90.47950720875014"
      ]
     },
     "execution_count": 1043,
     "metadata": {},
     "output_type": "execute_result"
    }
   ],
   "source": [
    "mean_squared_error(y_test, gs_lr.best_estimator_.predict(X_test))"
   ]
  },
  {
   "cell_type": "code",
   "execution_count": 1044,
   "metadata": {},
   "outputs": [
    {
     "data": {
      "text/plain": [
       "<matplotlib.collections.PathCollection at 0x182d9e38a08>"
      ]
     },
     "execution_count": 1044,
     "metadata": {},
     "output_type": "execute_result"
    },
    {
     "data": {
      "image/png": "[encoded data removed]",
      "text/plain": [
       "<Figure size 432x288 with 1 Axes>"
      ]
     },
     "metadata": {
      "needs_background": "light"
     },
     "output_type": "display_data"
    }
   ],
   "source": [
    "pred = gs_lr.best_estimator_.predict(X_test)\n",
    "plt.scatter(pred, y_test-pred)"
   ]
  },
  {
   "cell_type": "markdown",
   "metadata": {},
   "source": [
    "# Try polynomial features"
   ]
  },
  {
   "cell_type": "code",
   "execution_count": 865,
   "metadata": {},
   "outputs": [],
   "source": [
    "from sklearn.linear_model import LinearRegression\n",
    "from sklearn.preprocessing import PolynomialFeatures\n",
    "\n",
    "est = make_pipeline(preprocess,PolynomialFeatures(2),LinearRegression())\n",
    "est.fit(X_train,y_train)\n",
    "pred = est.predict(X_test)"
   ]
  },
  {
   "cell_type": "code",
   "execution_count": 866,
   "metadata": {},
   "outputs": [
    {
     "data": {
      "text/plain": [
       "-523.1001633079292"
      ]
     },
     "execution_count": 866,
     "metadata": {},
     "output_type": "execute_result"
    }
   ],
   "source": [
    "est.score(X_test,y_test)"
   ]
  },
  {
   "cell_type": "code",
   "execution_count": 880,
   "metadata": {},
   "outputs": [
    {
     "data": {
      "text/plain": [
       "70119.13988907523"
      ]
     },
     "execution_count": 880,
     "metadata": {},
     "output_type": "execute_result"
    }
   ],
   "source": [
    "mean_squared_error(y_test, pred)"
   ]
  },
  {
   "cell_type": "markdown",
   "metadata": {},
   "source": [
    "# Classification approach"
   ]
  },
  {
   "cell_type": "code",
   "execution_count": 105,
   "metadata": {},
   "outputs": [],
   "source": [
    "X_train, X_test, y_train, y_test = train_test_split(clean_data, y_c, test_size=0.33, random_state=42)"
   ]
  },
  {
   "cell_type": "code",
   "execution_count": 106,
   "metadata": {},
   "outputs": [],
   "source": [
    "with warnings.catch_warnings():\n",
    "    warnings.simplefilter(\"ignore\")\n",
    "    categorical = X_train.dtypes == object\n",
    "    \n",
    "    preprocess = make_column_transformer((StandardScaler(),~categorical),\n",
    "                                         (OneHotEncoder(handle_unknown='ignore'),categorical),\n",
    "                                         remainder='passthrough')"
   ]
  },
  {
   "cell_type": "code",
   "execution_count": 107,
   "metadata": {},
   "outputs": [
    {
     "data": {
      "text/plain": [
       "(501, 13)"
      ]
     },
     "execution_count": 107,
     "metadata": {},
     "output_type": "execute_result"
    }
   ],
   "source": [
    "X_train.shape"
   ]
  },
  {
   "cell_type": "code",
   "execution_count": 1447,
   "metadata": {},
   "outputs": [
    {
     "name": "stdout",
     "output_type": "stream",
     "text": [
      "<class 'pandas.core.frame.DataFrame'>\n",
      "Int64Index: 749 entries, 0 to 748\n",
      "Data columns (total 13 columns):\n",
      "Processing Agent Stability Index    749 non-null float64\n",
      "Sample Age (Weeks)                  749 non-null float64\n",
      "Process Type                        749 non-null object\n",
      "Product Type                        749 non-null object\n",
      "Sample ID                           749 non-null object\n",
      "Study Number                        749 non-null int64\n",
      "Preservative Added                  749 non-null float64\n",
      "Hexanal (ppm)                       749 non-null float64\n",
      "Residual Oxygen (%)                 749 non-null float64\n",
      "Storage Conditions                  749 non-null object\n",
      "Packaging Stabilizer Added          749 non-null object\n",
      "Moisture (%)                        749 non-null float64\n",
      "Base Ingredient                     749 non-null object\n",
      "dtypes: float64(6), int64(1), object(6)\n",
      "memory usage: 81.9+ KB\n"
     ]
    }
   ],
   "source": [
    "X.info()"
   ]
  },
  {
   "cell_type": "code",
   "execution_count": 1448,
   "metadata": {},
   "outputs": [
    {
     "name": "stdout",
     "output_type": "stream",
     "text": [
      "{'logisticregression__C': 10}\n",
      "0.8189373673582991\n"
     ]
    }
   ],
   "source": [
    "with warnings.catch_warnings():\n",
    "    warnings.simplefilter(\"ignore\")\n",
    "\n",
    "    param_lr = {'logisticregression__C': [0.0001, 0.001, 0.01, 0.1, 1, 10, 100] }\n",
    "    \n",
    "    gs_lr = GridSearchCV(estimator=make_pipeline(preprocess,LogisticRegression()),\n",
    "                         param_grid=param_lr,scoring=\"roc_auc\",cv=KFold(shuffle=True))\n",
    "    \n",
    "    gs_lr.fit(X_train,y_train)\n",
    "    print(gs_lr.best_params_)\n",
    "    print(gs_lr.best_score_)"
   ]
  },
  {
   "cell_type": "code",
   "execution_count": 1449,
   "metadata": {},
   "outputs": [
    {
     "data": {
      "text/plain": [
       "array([[ 20,  26],\n",
       "       [ 15, 187]], dtype=int64)"
      ]
     },
     "execution_count": 1449,
     "metadata": {},
     "output_type": "execute_result"
    }
   ],
   "source": [
    "from sklearn.metrics import confusion_matrix\n",
    "\n",
    "confusion_matrix(y_test, gs_lr.best_estimator_.predict(X_test))"
   ]
  },
  {
   "cell_type": "markdown",
   "metadata": {},
   "source": [
    "This is indeed a good baseline."
   ]
  },
  {
   "cell_type": "markdown",
   "metadata": {},
   "source": [
    "# Random forest classifier"
   ]
  },
  {
   "cell_type": "code",
   "execution_count": 1441,
   "metadata": {},
   "outputs": [
    {
     "name": "stdout",
     "output_type": "stream",
     "text": [
      "{'randomforestclassifier__n_estimators': 150}\n",
      "0.8700145658478993\n"
     ]
    }
   ],
   "source": [
    "from sklearn.ensemble import RandomForestClassifier\n",
    "with warnings.catch_warnings():\n",
    "    warnings.simplefilter(\"ignore\")\n",
    "    \n",
    "    param_lr = {'randomforestclassifier__n_estimators': [10,30,50,100,150,300] }\n",
    "    gs_lr = GridSearchCV(estimator=make_pipeline(preprocess,RandomForestClassifier(class_weight=\"balanced\")),\n",
    "                         scoring='roc_auc',\n",
    "                         param_grid=param_lr,cv=KFold(shuffle=True))\n",
    "    \n",
    "    gs_lr.fit(X_train,y_train)\n",
    "    \n",
    "    print(gs_lr.best_params_)\n",
    "    print(gs_lr.best_score_)"
   ]
  },
  {
   "cell_type": "code",
   "execution_count": 1442,
   "metadata": {},
   "outputs": [
    {
     "data": {
      "text/plain": [
       "array([[ 24,  22],\n",
       "       [ 16, 186]], dtype=int64)"
      ]
     },
     "execution_count": 1442,
     "metadata": {},
     "output_type": "execute_result"
    }
   ],
   "source": [
    "confusion_matrix(y_test, gs_lr.best_estimator_.predict(X_test))"
   ]
  },
  {
   "cell_type": "code",
   "execution_count": 1443,
   "metadata": {},
   "outputs": [
    {
     "name": "stdout",
     "output_type": "stream",
     "text": [
      "24 22 16 186\n"
     ]
    }
   ],
   "source": [
    "tn, fp, fn, tp = confusion_matrix(y_test, gs_lr.best_estimator_.predict(X_test)).ravel()\n",
    "print(tn, fp, fn, tp)"
   ]
  },
  {
   "cell_type": "code",
   "execution_count": 1203,
   "metadata": {},
   "outputs": [
    {
     "data": {
      "text/plain": [
       "0.8508064516129032"
      ]
     },
     "execution_count": 1203,
     "metadata": {},
     "output_type": "execute_result"
    }
   ],
   "source": [
    "accuracy_score(y_test, gs_lr.best_estimator_.predict(X_test))"
   ]
  },
  {
   "cell_type": "code",
   "execution_count": 1204,
   "metadata": {},
   "outputs": [
    {
     "data": {
      "text/plain": [
       "0.9099756690997567"
      ]
     },
     "execution_count": 1204,
     "metadata": {},
     "output_type": "execute_result"
    }
   ],
   "source": [
    "f1_score(y_test, gs_lr.best_estimator_.predict(X_test))"
   ]
  },
  {
   "cell_type": "code",
   "execution_count": 1205,
   "metadata": {},
   "outputs": [],
   "source": [
    "final_pred = gs_lr.best_estimator_.predict(X)"
   ]
  },
  {
   "cell_type": "code",
   "execution_count": 1207,
   "metadata": {},
   "outputs": [],
   "source": [
    "X['pred'] = final_pred\n",
    "X.to_csv('res_class.csv')"
   ]
  },
  {
   "cell_type": "code",
   "execution_count": 1195,
   "metadata": {},
   "outputs": [
    {
     "data": {
      "text/html": [
       "<div>\n",
       "<style scoped>\n",
       "    .dataframe tbody tr th:only-of-type {\n",
       "        vertical-align: middle;\n",
       "    }\n",
       "\n",
       "    .dataframe tbody tr th {\n",
       "        vertical-align: top;\n",
       "    }\n",
       "\n",
       "    .dataframe thead th {\n",
       "        text-align: right;\n",
       "    }\n",
       "</style>\n",
       "<table border=\"1\" class=\"dataframe\">\n",
       "  <thead>\n",
       "    <tr style=\"text-align: right;\">\n",
       "      <th></th>\n",
       "      <th>cat</th>\n",
       "      <th>feat_imp</th>\n",
       "    </tr>\n",
       "  </thead>\n",
       "  <tbody>\n",
       "    <tr>\n",
       "      <td>6</td>\n",
       "      <td>Moisture (%)</td>\n",
       "      <td>0.142566</td>\n",
       "    </tr>\n",
       "    <tr>\n",
       "      <td>5</td>\n",
       "      <td>Residual Oxygen (%)</td>\n",
       "      <td>0.137491</td>\n",
       "    </tr>\n",
       "    <tr>\n",
       "      <td>1</td>\n",
       "      <td>Sample Age (Weeks)</td>\n",
       "      <td>0.123113</td>\n",
       "    </tr>\n",
       "    <tr>\n",
       "      <td>4</td>\n",
       "      <td>Hexanal (ppm)</td>\n",
       "      <td>0.118211</td>\n",
       "    </tr>\n",
       "    <tr>\n",
       "      <td>2</td>\n",
       "      <td>Study Number</td>\n",
       "      <td>0.083993</td>\n",
       "    </tr>\n",
       "    <tr>\n",
       "      <td>...</td>\n",
       "      <td>...</td>\n",
       "      <td>...</td>\n",
       "    </tr>\n",
       "    <tr>\n",
       "      <td>123</td>\n",
       "      <td>1715394-1</td>\n",
       "      <td>0.000071</td>\n",
       "    </tr>\n",
       "    <tr>\n",
       "      <td>81</td>\n",
       "      <td>1513327-1</td>\n",
       "      <td>0.000051</td>\n",
       "    </tr>\n",
       "    <tr>\n",
       "      <td>76</td>\n",
       "      <td>1513115-1</td>\n",
       "      <td>0.000051</td>\n",
       "    </tr>\n",
       "    <tr>\n",
       "      <td>54</td>\n",
       "      <td>1512305-1</td>\n",
       "      <td>0.000002</td>\n",
       "    </tr>\n",
       "    <tr>\n",
       "      <td>74</td>\n",
       "      <td>1512900-1</td>\n",
       "      <td>0.000000</td>\n",
       "    </tr>\n",
       "  </tbody>\n",
       "</table>\n",
       "<p>139 rows × 2 columns</p>\n",
       "</div>"
      ],
      "text/plain": [
       "                     cat  feat_imp\n",
       "6           Moisture (%)  0.142566\n",
       "5    Residual Oxygen (%)  0.137491\n",
       "1     Sample Age (Weeks)  0.123113\n",
       "4          Hexanal (ppm)  0.118211\n",
       "2           Study Number  0.083993\n",
       "..                   ...       ...\n",
       "123            1715394-1  0.000071\n",
       "81             1513327-1  0.000051\n",
       "76             1513115-1  0.000051\n",
       "54             1512305-1  0.000002\n",
       "74             1512900-1  0.000000\n",
       "\n",
       "[139 rows x 2 columns]"
      ]
     },
     "execution_count": 1195,
     "metadata": {},
     "output_type": "execute_result"
    }
   ],
   "source": [
    "feat_imp = gs_lr.best_estimator_.named_steps['randomforestclassifier'].feature_importances_\n",
    "\n",
    "def get_feat_imp(best_est,feat_imp):\n",
    "    cat_list = best_est.named_steps['columntransformer'].named_transformers_['onehotencoder'].categories_\n",
    "    flat_list = [item for cat_list in cat_list for item in cat_list]\n",
    "    cont = X_train.select_dtypes(exclude=['object'])\n",
    "    tot_col = list(cont.columns)\n",
    "    tot_col.extend(flat_list)\n",
    "    df = pd.DataFrame({'cat':tot_col,'feat_imp':feat_imp})\n",
    "    return df.reindex(df.feat_imp.abs().sort_values(ascending = False).index)\n",
    "\n",
    "res = get_feat_imp(gs_lr.best_estimator_,feat_imp)\n",
    "res"
   ]
  },
  {
   "cell_type": "code",
   "execution_count": 1196,
   "metadata": {},
   "outputs": [
    {
     "data": {
      "text/plain": [
       "Text(0.5, 1.0, 'features Vs Importances')"
      ]
     },
     "execution_count": 1196,
     "metadata": {},
     "output_type": "execute_result"
    },
    {
     "data": {
      "image/png": "[encoded data removed]",
      "text/plain": [
       "<Figure size 432x288 with 1 Axes>"
      ]
     },
     "metadata": {
      "needs_background": "light"
     },
     "output_type": "display_data"
    }
   ],
   "source": [
    "plt.xticks(rotation=90)\n",
    "plt.bar(res.iloc[:5,0],res.iloc[:5,1])\n",
    "plt.xlabel(\"Features\")\n",
    "plt.ylabel(\"Coefficients\")\n",
    "plt.title(\"features Vs Importances\")"
   ]
  },
  {
   "cell_type": "markdown",
   "metadata": {},
   "source": [
    "# Ada Boost classifier"
   ]
  },
  {
   "cell_type": "code",
   "execution_count": 1192,
   "metadata": {},
   "outputs": [
    {
     "name": "stdout",
     "output_type": "stream",
     "text": [
      "{'adaboostclassifier__n_estimators': 30}\n",
      "0.7943786199164928\n"
     ]
    }
   ],
   "source": [
    "from sklearn.ensemble import AdaBoostClassifier\n",
    "with warnings.catch_warnings():\n",
    "    warnings.simplefilter(\"ignore\")\n",
    "    \n",
    "    param_ada = {'adaboostclassifier__n_estimators': [3,5,10,30,50,100,150,300] }\n",
    "    gs_ada = GridSearchCV(estimator=make_pipeline(preprocess,AdaBoostClassifier()),scoring='roc_auc',\n",
    "                         param_grid=param_ada,cv=KFold(shuffle=True))\n",
    "    \n",
    "    gs_ada.fit(X_train,y_train)\n",
    "    \n",
    "    print(gs_ada.best_params_)\n",
    "    print(gs_ada.best_score_)"
   ]
  },
  {
   "cell_type": "markdown",
   "metadata": {},
   "source": [
    "In conclusion, Random forest regressor and classifier work well on this data. The AUC with the best model is 0.86 and MSE is 57.8."
   ]
  },
  {
   "cell_type": "code",
   "execution_count": null,
   "metadata": {},
   "outputs": [],
   "source": []
  }
 ],
 "metadata": {
  "kernelspec": {
   "display_name": "Python 3",
   "language": "python",
   "name": "python3"
  },
  "language_info": {
   "codemirror_mode": {
    "name": "ipython",
    "version": 3
   },
   "file_extension": ".py",
   "mimetype": "text/x-python",
   "name": "python",
   "nbconvert_exporter": "python",
   "pygments_lexer": "ipython3",
   "version": "3.7.4"
  }
 },
 "nbformat": 4,
 "nbformat_minor": 2
}
